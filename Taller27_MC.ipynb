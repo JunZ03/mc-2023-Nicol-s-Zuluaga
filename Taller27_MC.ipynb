{
  "nbformat": 4,
  "nbformat_minor": 0,
  "metadata": {
    "colab": {
      "provenance": []
    },
    "kernelspec": {
      "name": "python3",
      "display_name": "Python 3"
    },
    "language_info": {
      "name": "python"
    }
  },
  "cells": [
    {
      "cell_type": "code",
      "execution_count": 1,
      "metadata": {
        "colab": {
          "base_uri": "https://localhost:8080/"
        },
        "id": "g39m1xxHVEFG",
        "outputId": "6e067cdb-d72b-41e8-be59-18c493000964"
      },
      "outputs": [
        {
          "output_type": "stream",
          "name": "stdout",
          "text": [
            "Raíz aproximada: 0.4444444412365556\n",
            "Error aproximado: 4.6566128730773926e-09\n",
            "Número de iteraciones: 31\n"
          ]
        }
      ],
      "source": [
        "def f(x):\n",
        "    return 1.5 * x*3 - 3.5 * x*2 - 2 * x + 2\n",
        "\n",
        "def biseccion(a, b, precision):\n",
        "    if f(a) * f(b) >= 0:\n",
        "        print(\"No se puede aplicar el método de la bisección en este intervalo.\")\n",
        "        return None\n",
        "\n",
        "    iterations = 0\n",
        "    while (b - a) >= precision:\n",
        "        c = (a + b) / 2.0\n",
        "\n",
        "        if f(c) == 0.0:\n",
        "            break\n",
        "\n",
        "        if f(c) * f(a) < 0:\n",
        "            b = c\n",
        "        else:\n",
        "            a = c\n",
        "\n",
        "        iterations += 1\n",
        "\n",
        "    approx_root = (a + b) / 2.0\n",
        "    error = (b - a) / 2.0\n",
        "\n",
        "    return approx_root, error, iterations\n",
        "\n",
        "a = -10.0\n",
        "b = 10.0\n",
        "\n",
        "\n",
        "precision = 0.00000001\n",
        "\n",
        "\n",
        "approx_root, error, iterations = biseccion(a, b, precision)\n",
        "\n",
        "print(\"Raíz aproximada:\", approx_root)\n",
        "print(\"Error aproximado:\", error)\n",
        "print(\"Número de iteraciones:\", iterations)"
      ]
    }
  ]
}