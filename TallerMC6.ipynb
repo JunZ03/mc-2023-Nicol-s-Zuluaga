{
  "nbformat": 4,
  "nbformat_minor": 0,
  "metadata": {
    "colab": {
      "provenance": []
    },
    "kernelspec": {
      "name": "python3",
      "display_name": "Python 3"
    },
    "language_info": {
      "name": "python"
    }
  },
  "cells": [
    {
      "cell_type": "markdown",
      "source": [
        "##Metodo inicial sin porcentaje ni ciclo, solo aproximar el angulo"
      ],
      "metadata": {
        "id": "YTXf9dhHq_NO"
      }
    },
    {
      "cell_type": "code",
      "execution_count": null,
      "metadata": {
        "id": "wYs5d59e0M4l"
      },
      "outputs": [],
      "source": [
        "from scipy.special import factorial\n",
        "\n",
        "angulo=float(input(\"Ingrese el valor de su angulo en radianes: \"))\n",
        "error=0\n",
        "ea=100\n",
        "es=((0.5*10**-8)*100)\n",
        "n=0\n",
        "j=0\n",
        "for j in range(0,20):\n",
        "  \n",
        "  if j % 2 ==0:\n",
        "    n+=((angulo**(2*j))/factorial((2*j)))\n",
        "    \n",
        "\n",
        "    print(n)\n",
        "  else:\n",
        "    n-=((angulo**(2*j))/factorial((2*j)))\n",
        "    \n",
        "    print(n)\n",
        "\n",
        "\n",
        "\n",
        "\n",
        "\n",
        "print(n)"
      ]
    },
    {
      "cell_type": "markdown",
      "source": [
        "##Codigo completo"
      ],
      "metadata": {
        "id": "sSqCG5ZrrH5T"
      }
    },
    {
      "cell_type": "code",
      "source": [
        "from scipy.special import factorial\n",
        "import math\n",
        "\n",
        "angulo=float(input(\"Ingrese el valor de su angulo en radianes: \"))\n",
        "\n",
        "n = 1\n",
        "j=0\n",
        "suma=0\n",
        "error_esperado = 0.00000001\n",
        "\n",
        "while abs(n) > error_esperado:\n",
        "  \n",
        "  if j % 2 ==0:\n",
        "    n=1*((angulo**(2*j))/factorial((2*j)))\n",
        "    j+=1\n",
        "    suma+=n\n",
        "\n",
        "    \n",
        "  else:\n",
        "    n=-1*((angulo**(2*j))/factorial((2*j)))\n",
        "    j+=1\n",
        "    suma+=n\n",
        "    \n",
        "    \n",
        "\n",
        "valor_estimado = suma\n",
        "error_aproximado = abs((valor_estimado - math.cos(angulo)) / math.cos(angulo)) * 100\n",
        "print(\"Valor estimado: {:.8f}\".format(valor_estimado))\n",
        "print(\"Error aproximado relativo porcentual: {:.8f}%\".format(error_aproximado))\n",
        "print(\"Número de iteraciones: {}\".format(j))\n",
        "\n",
        "\n",
        "\n"
      ],
      "metadata": {
        "colab": {
          "base_uri": "https://localhost:8080/"
        },
        "id": "_js-juHciKC7",
        "outputId": "ba7b543c-9b69-4b6c-eb4c-83c76e1a0271"
      },
      "execution_count": 27,
      "outputs": [
        {
          "output_type": "stream",
          "name": "stdout",
          "text": [
            "Ingrese el valor de su angulo en radianes: 1.04719\n",
            "Valor estimado: 0.50000654\n",
            "Error aproximado relativo porcentual: 0.00000000%\n",
            "Número de iteraciones: 7\n"
          ]
        }
      ]
    }
  ]
}