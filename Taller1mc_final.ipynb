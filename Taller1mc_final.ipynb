{
  "nbformat": 4,
  "nbformat_minor": 0,
  "metadata": {
    "colab": {
      "provenance": []
    },
    "kernelspec": {
      "name": "python3",
      "display_name": "Python 3"
    },
    "language_info": {
      "name": "python"
    }
  },
  "cells": [
    {
      "cell_type": "code",
      "execution_count": 2,
      "metadata": {
        "colab": {
          "base_uri": "https://localhost:8080/"
        },
        "id": "b8oTUFh78meA",
        "outputId": "0791ce35-7f68-4dbe-b837-79de8322d9ff"
      },
      "outputs": [
        {
          "output_type": "stream",
          "name": "stdout",
          "text": [
            "¿Desea agregar datos al primer conjunto? usa Y/N: y\n",
            "Ingrese el elemento: 4\n",
            "¿Desea agregar datos al primer conjunto? usa Y/N: y\n",
            "Ingrese el elemento: 34\n",
            "¿Desea agregar datos al primer conjunto? usa Y/N: y\n",
            "Ingrese el elemento: 5631\n",
            "¿Desea agregar datos al primer conjunto? usa Y/N: y\n",
            "Ingrese el elemento: 1\n",
            "¿Desea agregar datos al primer conjunto? usa Y/N: n\n",
            "¿Desea agregar datos al segundo conjunto? usa Y/N: y\n",
            "Ingrese el elemento: 1\n",
            "¿Desea agregar datos al segundo conjunto? usa Y/N: y\n",
            "Ingrese el elemento: 4\n",
            "¿Desea agregar datos al segundo conjunto? usa Y/N: y\n",
            "Ingrese el elemento: 56233\n",
            "¿Desea agregar datos al segundo conjunto? usa Y/N: y\n",
            "Ingrese el elemento: 23232\n",
            "¿Desea agregar datos al segundo conjunto? usa Y/N: y\n",
            "Ingrese el elemento: 34\n",
            "¿Desea agregar datos al segundo conjunto? usa Y/N: y\n",
            "Ingrese el elemento: 212\n",
            "¿Desea agregar datos al segundo conjunto? usa Y/N: n\n",
            "Escoja cual de las siguientes operaciones desea realizar entre los dos conjuntos: \n",
            " 1)Unión \n",
            " 2)Intersección \n",
            " 3)Diferencia \n",
            " 4)Diferencia Simétrica \n",
            " Escribe el numero correspondiente a su operación1\n",
            "{23232.0, 1.0, 34.0, 4.0, 56233.0, 212.0, 5631.0}\n",
            "Su cardinalidad es de: 7\n",
            "Desea realizar otra operación? Y/N: y\n",
            "Escoja cual de las siguientes operaciones desea realizar entre los dos conjuntos: \n",
            " 1)Unión \n",
            " 2)Intersección \n",
            " 3)Diferencia \n",
            " 4)Diferencia Simétrica \n",
            " Escribe el numero correspondiente a su operación2\n",
            "{1.0, 34.0, 4.0}\n",
            "Su cardinalidad es de: 3\n",
            "Desea realizar otra operación? Y/N: y\n",
            "Escoja cual de las siguientes operaciones desea realizar entre los dos conjuntos: \n",
            " 1)Unión \n",
            " 2)Intersección \n",
            " 3)Diferencia \n",
            " 4)Diferencia Simétrica \n",
            " Escribe el numero correspondiente a su operación3\n",
            "{5631.0}\n",
            "Su cardinalidad es de: 1\n",
            "Desea realizar otra operación? Y/N: y\n",
            "Escoja cual de las siguientes operaciones desea realizar entre los dos conjuntos: \n",
            " 1)Unión \n",
            " 2)Intersección \n",
            " 3)Diferencia \n",
            " 4)Diferencia Simétrica \n",
            " Escribe el numero correspondiente a su operación4\n",
            "{23232.0, 212.0, 56233.0, 5631.0}\n",
            "Su cardinalidad es de: 4\n",
            "Desea realizar otra operación? Y/N: y\n",
            "Escoja cual de las siguientes operaciones desea realizar entre los dos conjuntos: \n",
            " 1)Unión \n",
            " 2)Intersección \n",
            " 3)Diferencia \n",
            " 4)Diferencia Simétrica \n",
            " Escribe el numero correspondiente a su operación5\n",
            "Opción inválida\n",
            "Desea realizar otra operación? Y/N: n\n",
            "Gracias por su tiempo\n"
          ]
        }
      ],
      "source": [
        "C1=set({})\n",
        "C2=set({})\n",
        "while True:\n",
        "  dato=str(input(\"¿Desea agregar datos al primer conjunto? usa Y/N: \"))\n",
        "  if dato.lower() == \"y\":\n",
        "    e=float(input(\"Ingrese el elemento: \"))\n",
        "    C1.add(e)\n",
        "  else:\n",
        "    break\n",
        "\n",
        "while True:\n",
        "  dato=str(input(\"¿Desea agregar datos al segundo conjunto? usa Y/N: \"))\n",
        "  if dato.lower() == \"y\":\n",
        "    e=float(input(\"Ingrese el elemento: \"))\n",
        "    C2.add(e)\n",
        "  else:\n",
        "    break\n",
        "\n",
        "while True:\n",
        "  OP=int(input(f\"Escoja cual de las siguientes operaciones desea realizar entre los dos conjuntos: \\n 1)Unión \\n 2)Intersección \\n 3)Diferencia \\n 4)Diferencia Simétrica \\n Escribe el numero correspondiente a su operación\"))\n",
        "  if OP== 1:\n",
        "    C3=C1.union(C2)\n",
        "    print(C3)\n",
        "    print(\"Su cardinalidad es de:\", len(C3))\n",
        "  elif OP==2:\n",
        "    C3=C1.intersection(C2)\n",
        "    print(C3)\n",
        "    print(\"Su cardinalidad es de:\", len(C3))\n",
        "  elif OP==3:\n",
        "    C3=C1.difference(C2)\n",
        "    print(C3)\n",
        "    print(\"Su cardinalidad es de:\", len(C3))\n",
        "  elif OP==4:\n",
        "    C3=C1.symmetric_difference(C2)\n",
        "    print(C3)\n",
        "    print(\"Su cardinalidad es de:\", len(C3))\n",
        "  else:\n",
        "    print(\"Opción inválida\")\n",
        "  \n",
        "  rep=str(input(\"Desea realizar otra operación? Y/N: \"))\n",
        "  if rep.lower() ==\"n\":\n",
        "    print(\"Gracias por su tiempo\")\n",
        "    break\n",
        "\n",
        "\n"
      ]
    },
    {
      "cell_type": "code",
      "source": [],
      "metadata": {
        "colab": {
          "base_uri": "https://localhost:8080/"
        },
        "id": "BpTLnbJU_3WP",
        "outputId": "5dde1831-b376-4a7a-e72b-3380a2c9ffdc"
      },
      "execution_count": null,
      "outputs": [
        {
          "output_type": "stream",
          "name": "stdout",
          "text": [
            "{5.0, 7.0}\n"
          ]
        }
      ]
    }
  ]
}