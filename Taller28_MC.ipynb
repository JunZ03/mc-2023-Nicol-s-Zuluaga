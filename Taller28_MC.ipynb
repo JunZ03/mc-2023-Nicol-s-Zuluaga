{
  "nbformat": 4,
  "nbformat_minor": 0,
  "metadata": {
    "colab": {
      "provenance": []
    },
    "kernelspec": {
      "name": "python3",
      "display_name": "Python 3"
    },
    "language_info": {
      "name": "python"
    }
  },
  "cells": [
    {
      "cell_type": "code",
      "execution_count": 70,
      "metadata": {
        "id": "X5SiUP3Fx1C6",
        "colab": {
          "base_uri": "https://localhost:8080/"
        },
        "outputId": "a09acdfa-20e8-4cd7-cfc9-31c988f38cd3"
      },
      "outputs": [
        {
          "output_type": "stream",
          "name": "stdout",
          "text": [
            "La raiz de la función es: 1.74090542, y el error es de 1.275454729659699e-14\n"
          ]
        }
      ],
      "source": [
        "import math\n",
        "import sympy as sp\n",
        "\n",
        "e=0.00000001\n",
        "\n",
        "def f1(x):\n",
        "  return x**2 - math.e**(-2*x) - 3\n",
        "\n",
        "def f2(x):\n",
        "  return 2*x + 2.0/2.71828182845905**(2*x)\n",
        "\n",
        "def op(a):\n",
        " return a - (f1(a)/f2(a))\n",
        "\n",
        "def newton(e):\n",
        "  a=1\n",
        "  error=1 \n",
        "  z=0\n",
        "  while e<error:\n",
        "   n = op(a)\n",
        "   a = op(n)\n",
        "   error = abs((a-n)/a) * 100\n",
        "   z+=1\n",
        "  print(f\"La raiz de la función es: {round(n,8)}, y el error es de {error}\" )\n",
        "\n",
        "newton(e)"
      ]
    }
  ]
}