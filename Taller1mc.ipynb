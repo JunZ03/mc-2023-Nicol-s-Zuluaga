{
  "nbformat": 4,
  "nbformat_minor": 0,
  "metadata": {
    "colab": {
      "provenance": []
    },
    "kernelspec": {
      "name": "python3",
      "display_name": "Python 3"
    },
    "language_info": {
      "name": "python"
    }
  },
  "cells": [
    {
      "cell_type": "code",
      "execution_count": 3,
      "metadata": {
        "colab": {
          "base_uri": "https://localhost:8080/"
        },
        "id": "b8oTUFh78meA",
        "outputId": "479d50eb-fcce-4c08-e85f-24f16d5fea01"
      },
      "outputs": [
        {
          "output_type": "stream",
          "name": "stdout",
          "text": [
            "¿Desea agregar datos al primer conjunto? usa Y/N: Y\n",
            "Ingrese el elemento: 1\n",
            "¿Desea agregar datos al primer conjunto? usa Y/N: Y\n",
            "Ingrese el elemento: 2\n",
            "¿Desea agregar datos al primer conjunto? usa Y/N: Y\n",
            "Ingrese el elemento: 4\n",
            "¿Desea agregar datos al primer conjunto? usa Y/N: Y\n",
            "Ingrese el elemento: 8\n",
            "¿Desea agregar datos al primer conjunto? usa Y/N: N\n",
            "¿Desea agregar datos al segundo conjunto? usa Y/N: Y\n",
            "Ingrese el elemento: 4\n",
            "¿Desea agregar datos al segundo conjunto? usa Y/N: Y\n",
            "Ingrese el elemento: 2\n",
            "¿Desea agregar datos al segundo conjunto? usa Y/N: Y\n",
            "Ingrese el elemento: 6\n",
            "¿Desea agregar datos al segundo conjunto? usa Y/N: Y\n",
            "Ingrese el elemento: 11\n",
            "¿Desea agregar datos al segundo conjunto? usa Y/N: Y\n",
            "Ingrese el elemento: 13\n",
            "¿Desea agregar datos al segundo conjunto? usa Y/N: N\n",
            "Escoja cual de las siguientes operaciones desea realizar entre los dos conjuntos: \n",
            " 1)Unión \n",
            " 2)Intersección \n",
            " 3)Diferencia \n",
            " 4)Diferencia Simétrica \n",
            " Escribe el numero correspondiente a su operación1\n",
            "{1.0, 2.0, 4.0, 6.0, 8.0, 11.0, 13.0}\n",
            "Desea realizar otra operación? Y/N: Y\n",
            "Escoja cual de las siguientes operaciones desea realizar entre los dos conjuntos: \n",
            " 1)Unión \n",
            " 2)Intersección \n",
            " 3)Diferencia \n",
            " 4)Diferencia Simétrica \n",
            " Escribe el numero correspondiente a su operación4\n",
            "{1.0, 6.0, 8.0, 11.0, 13.0}\n",
            "Desea realizar otra operación? Y/N: Y\n",
            "Escoja cual de las siguientes operaciones desea realizar entre los dos conjuntos: \n",
            " 1)Unión \n",
            " 2)Intersección \n",
            " 3)Diferencia \n",
            " 4)Diferencia Simétrica \n",
            " Escribe el numero correspondiente a su operación2\n",
            "{2.0, 4.0}\n",
            "Desea realizar otra operación? Y/N: Y\n",
            "Escoja cual de las siguientes operaciones desea realizar entre los dos conjuntos: \n",
            " 1)Unión \n",
            " 2)Intersección \n",
            " 3)Diferencia \n",
            " 4)Diferencia Simétrica \n",
            " Escribe el numero correspondiente a su operación3\n",
            "{8.0, 1.0}\n",
            "Desea realizar otra operación? Y/N: N\n",
            "{8.0, 1.0}\n"
          ]
        }
      ],
      "source": [
        "C1=set({})\n",
        "C2=set({})\n",
        "while True:\n",
        "  dato=str(input(\"¿Desea agregar datos al primer conjunto? usa Y/N: \"))\n",
        "  if dato== \"Y\":\n",
        "    e=float(input(\"Ingrese el elemento: \"))\n",
        "    C1.add(e)\n",
        "  else:\n",
        "    break\n",
        "\n",
        "while True:\n",
        "  dato=str(input(\"¿Desea agregar datos al segundo conjunto? usa Y/N: \"))\n",
        "  if dato== \"Y\":\n",
        "    e=float(input(\"Ingrese el elemento: \"))\n",
        "    C2.add(e)\n",
        "  else:\n",
        "    break\n",
        "\n",
        "while True:\n",
        "  OP=int(input(f\"Escoja cual de las siguientes operaciones desea realizar entre los dos conjuntos: \\n 1)Unión \\n 2)Intersección \\n 3)Diferencia \\n 4)Diferencia Simétrica \\n Escribe el numero correspondiente a su operación\"))\n",
        "  if OP== 1:\n",
        "    C3=C1.union(C2)\n",
        "    print(C3)\n",
        "  elif OP==2:\n",
        "    C3=C1.intersection(C2)\n",
        "    print(C3)\n",
        "  elif OP==3:\n",
        "    C3=C1.difference(C2)\n",
        "    print(C3)\n",
        "  elif OP==4:\n",
        "    C3=C1.symmetric_difference(C2)\n",
        "    print(C3)\n",
        "  \n",
        "  rep=str(input(\"Desea realizar otra operación? Y/N: \"))\n",
        "  if rep==\"N\":\n",
        "    break\n",
        "\n",
        "\n"
      ]
    },
    {
      "cell_type": "code",
      "source": [],
      "metadata": {
        "colab": {
          "base_uri": "https://localhost:8080/"
        },
        "id": "BpTLnbJU_3WP",
        "outputId": "5dde1831-b376-4a7a-e72b-3380a2c9ffdc"
      },
      "execution_count": null,
      "outputs": [
        {
          "output_type": "stream",
          "name": "stdout",
          "text": [
            "{5.0, 7.0}\n"
          ]
        }
      ]
    }
  ]
}