{
  "nbformat": 4,
  "nbformat_minor": 0,
  "metadata": {
    "colab": {
      "provenance": []
    },
    "kernelspec": {
      "name": "python3",
      "display_name": "Python 3"
    },
    "language_info": {
      "name": "python"
    }
  },
  "cells": [
    {
      "cell_type": "code",
      "execution_count": null,
      "metadata": {
        "id": "ZJpmAGj5V9uh"
      },
      "outputs": [],
      "source": [
        "#Programa de operaciones con Funciones\n",
        "A=set({1,4,6,9,12,20,30})\n",
        "B=set({2,3,4,5,6,7,8,9,10,11,12,13,14,15,16,17,18,19,20,21,22,23,24})\n",
        "C=set({6,10,14,18,22,26,30,34})\n",
        "\n",
        "\n",
        "def Union(a,b):\n",
        "  c= a.union(b)\n",
        "  return c\n",
        "\n",
        "def Diferencia(a,b):\n",
        "  c = a.difference(b)\n",
        "  return c\n",
        "\n",
        "def interseccion(a,b):\n",
        "  c = a.intersection(b)\n",
        "  return c\n",
        "\n",
        "def diferencia_sim(a,b):\n",
        "  c = a.symmetric_difference(b)\n",
        "  return c\n",
        "\n",
        "\n",
        "print(\"Operación 1:\",interseccion(diferencia_sim(B,C),Union(A,C)),\" \\nOperación 2:\",diferencia_sim(interseccion(Diferencia(A,B),C),Union(B,C)),\"\\nOperación 3:\",Diferencia(Union(Diferencia(A,C),interseccion(B,A)),Union(Union(A,B),C)))\n"
      ]
    }
  ]
}