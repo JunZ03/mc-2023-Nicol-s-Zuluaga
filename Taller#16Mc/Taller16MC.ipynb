{
  "nbformat": 4,
  "nbformat_minor": 0,
  "metadata": {
    "colab": {
      "provenance": []
    },
    "kernelspec": {
      "name": "python3",
      "display_name": "Python 3"
    },
    "language_info": {
      "name": "python"
    }
  },
  "cells": [
    {
      "cell_type": "code",
      "execution_count": 2,
      "metadata": {
        "colab": {
          "base_uri": "https://localhost:8080/"
        },
        "id": "zMDlvJqhvDzM",
        "outputId": "8e62a5d5-d737-4e99-a7f2-37291ed7b013"
      },
      "outputs": [
        {
          "output_type": "stream",
          "name": "stdout",
          "text": [
            "Tu ecuación por regresiones lineales por minimos cuadrados para un mejor ajuste es: \n",
            " y=3.3250000000000006 + (-0.41071428571428586x)\n"
          ]
        }
      ],
      "source": [
        "x=[0,1,2,3,4,5,6,7]\n",
        "y=[3.5,2.5,3,1.5,2,1.3,1,0.3]\n",
        "prod=[x[i] * y[i] for i in range (len(x))]\n",
        "xcuadrado=[x[j]**2 for j in range (len(x))]\n",
        "sumaxcuadrado=sum(xcuadrado)\n",
        "productoescalar=sum(prod)\n",
        "sumax=sum(x)\n",
        "sumay=sum(y)\n",
        "mediaX=sumax/8\n",
        "mediaY=sumay/8\n",
        "a1=(len(x)*(productoescalar) - (sumax*sumay))/(len(x)*(sumaxcuadrado) - ((sumax)**2))\n",
        "a0=mediaY - a1*mediaX\n",
        "print (f\"Tu ecuación por regresiones lineales por minimos cuadrados para un mejor ajuste es: \\n y={a0} + ({a1}x)\")"
      ]
    }
  ]
}