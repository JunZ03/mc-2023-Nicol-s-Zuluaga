{
  "nbformat": 4,
  "nbformat_minor": 0,
  "metadata": {
    "colab": {
      "provenance": []
    },
    "kernelspec": {
      "name": "python3",
      "display_name": "Python 3"
    },
    "language_info": {
      "name": "python"
    }
  },
  "cells": [
    {
      "cell_type": "code",
      "execution_count": 1,
      "metadata": {
        "colab": {
          "base_uri": "https://localhost:8080/"
        },
        "id": "wLU_IIZEZgAh",
        "outputId": "cc62807b-52bd-4a08-bc7b-ea8f5cbbbd34"
      },
      "outputs": [
        {
          "output_type": "stream",
          "name": "stdout",
          "text": [
            "Polinomio de interpolación de Lagrange de grado 1:\n",
            "11.4*(x-1)/(0-1) + 12.2*(x-0)/(1-0)\n",
            "\n",
            "Polinomio de interpolación de Lagrange de grado 2:\n",
            "11.4*(x-1)/(0-1)*(x-2)/(0-2) + 12.2*(x-0)/(1-0)*(x-2)/(1-2) + 10.4*(x-0)/(2-0)*(x-1)/(2-1)\n",
            "\n",
            "Polinomio de interpolación de Lagrange de grado 3:\n",
            "11.4*(x-1)/(0-1)*(x-2)/(0-2)*(x-3)/(0-3) + 12.2*(x-0)/(1-0)*(x-2)/(1-2)*(x-3)/(1-3) + 10.4*(x-0)/(2-0)*(x-1)/(2-1)*(x-3)/(2-3) + 8.2*(x-0)/(3-0)*(x-1)/(3-1)*(x-2)/(3-2)\n",
            "\n"
          ]
        }
      ],
      "source": [
        "puntos = [(0, 1), (1, 0.2), (2, 2), (3, 4.2), (4, 5)]\n",
        "\n",
        "\n",
        "def lagrange(x, puntos, k=0):\n",
        "    n = len(puntos)\n",
        "    result = 0.0\n",
        "    for i in range(n):\n",
        "        if i != k:\n",
        "            term = (x - puntos[i][0]) / (puntos[k][0] - puntos[i][0])\n",
        "            result += term * puntos[i][1]\n",
        "    return result\n",
        "\n",
        "def interpolar(puntos, degree):\n",
        "    n = len(puntos)\n",
        "    result = \"\"\n",
        "    for i in range(degree + 1):\n",
        "        term = str(round(lagrange(puntos[i][0], puntos, i), 2))\n",
        "        for j in range(degree + 1):\n",
        "            if i != j:\n",
        "                term += \"*(x-\" + str(puntos[j][0]) + \")/(\" + str(puntos[i][0]) + \"-\" + str(puntos[j][0]) + \")\"\n",
        "        if i == 0:\n",
        "            result += term\n",
        "        else:\n",
        "            result += \" + \" + term\n",
        "    return result\n",
        "\n",
        "for degree in range(1, 4):\n",
        "    print(f\"Polinomio de interpolación de Lagrange de grado {degree}:\")\n",
        "    print(interpolar(puntos, degree))\n",
        "    print()"
      ]
    }
  ]
}