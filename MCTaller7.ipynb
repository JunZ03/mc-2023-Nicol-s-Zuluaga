{
  "nbformat": 4,
  "nbformat_minor": 0,
  "metadata": {
    "colab": {
      "provenance": []
    },
    "kernelspec": {
      "name": "python3",
      "display_name": "Python 3"
    },
    "language_info": {
      "name": "python"
    }
  },
  "cells": [
    {
      "cell_type": "code",
      "execution_count": 42,
      "metadata": {
        "colab": {
          "base_uri": "https://localhost:8080/"
        },
        "id": "yKa1DTaEothC",
        "outputId": "8d3f998a-8a5d-4f90-db48-4665e7beef20"
      },
      "outputs": [
        {
          "output_type": "stream",
          "name": "stdout",
          "text": [
            "Parte 1, la respuesta de esta parte del taller es:\n",
            "El valor estimado es de: 0.42741493\n",
            "El error aproximado relativo porcentual es de 0.00000000%.\n",
            "Se realizaron 13 iteraciones.\n"
          ]
        }
      ],
      "source": [
        "print(\"Parte 1\")\n",
        "import math\n",
        "\n",
        "x = 0.85\n",
        "a = 1\n",
        "tolerance = 0.000000005\n",
        "\n",
        "i = 1\n",
        "while True:\n",
        "    c = ((-1)**i * x**i) / math.factorial(i)\n",
        "    a += c\n",
        "    if abs(c / a) * 100 < tolerance:\n",
        "        break\n",
        "    else:\n",
        "        i += 1\n",
        "\n",
        "print(f\"El valor estimado es de: {a:.8f}\")\n",
        "print(f\"El error aproximado relativo porcentual es de {abs(c / a) * 100:.8f}%.\")\n",
        "print(f\"Se realizaron {i} iteraciones.\")"
      ]
    },
    {
      "cell_type": "code",
      "source": [
        "print(math.exp(-0.83))"
      ],
      "metadata": {
        "colab": {
          "base_uri": "https://localhost:8080/"
        },
        "id": "Yv_sOFy9zQug",
        "outputId": "2b5af5b3-71b2-4ffc-eff4-c56193960a12"
      },
      "execution_count": null,
      "outputs": [
        {
          "output_type": "stream",
          "name": "stdout",
          "text": [
            "0.4360492863215356\n"
          ]
        }
      ]
    },
    {
      "cell_type": "code",
      "source": [
        "print(\"Parte 2\")\n",
        "import math\n",
        "\n",
        "x = 0.85\n",
        "a = 1\n",
        "tolerance = 0.000000005\n",
        "\n",
        "i = 1\n",
        "while True:\n",
        "    c = x**i / math.factorial(i)\n",
        "    a += c\n",
        "    if abs(c / a) < tolerance:\n",
        "        break\n",
        "    else:\n",
        "        i += 1\n",
        "\n",
        "result = 1 / a\n",
        "ea = abs((result - math.exp(-x)) / result) * 100\n",
        "\n",
        "print(f\"El valor estimado es de: {result:.8f}\")\n",
        "print(f\"El error aproximado relativo porcentual es de {ea:.8f}%.\")\n",
        "print(f\"Se realizaron {i} iteraciones.\")\n"
      ],
      "metadata": {
        "colab": {
          "base_uri": "https://localhost:8080/"
        },
        "id": "tL8x0ddhqmN0",
        "outputId": "3d93d9a4-f706-4002-8890-9026056e2c79"
      },
      "execution_count": 44,
      "outputs": [
        {
          "output_type": "stream",
          "name": "stdout",
          "text": [
            "Parte 2\n",
            "El valor estimado es de: 0.42741493\n",
            "El error aproximado relativo porcentual es de 0.00000001%.\n",
            "Se realizaron 11 iteraciones.\n"
          ]
        }
      ]
    }
  ]
}