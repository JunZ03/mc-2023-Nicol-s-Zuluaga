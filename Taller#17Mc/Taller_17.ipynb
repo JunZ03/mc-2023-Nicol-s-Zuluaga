{
  "nbformat": 4,
  "nbformat_minor": 0,
  "metadata": {
    "colab": {
      "provenance": []
    },
    "kernelspec": {
      "name": "python3",
      "display_name": "Python 3"
    },
    "language_info": {
      "name": "python"
    }
  },
  "cells": [
    {
      "cell_type": "code",
      "execution_count": 11,
      "metadata": {
        "colab": {
          "base_uri": "https://localhost:8080/"
        },
        "id": "j4KBGrK8Hock",
        "outputId": "d3b0838e-a998-4821-b502-c8f8ab9469c0"
      },
      "outputs": [
        {
          "output_type": "stream",
          "name": "stdout",
          "text": [
            "Tu ecuación por regresiones lineales por minimos cuadrados para un mejor ajuste es: \n",
            " y=1.5608297022877422 * (e**0.16991843062935594x)\n"
          ]
        }
      ],
      "source": [
        "import math\n",
        "x=[2,4,6,8,10,12]\n",
        "y=[2.2,3,4.5,6,8.5,12]\n",
        "lognY=[math.log(y[i]) for i in range (len(x))]\n",
        "prod=[x[i] * y[i] for i in range (len(x))]\n",
        "prode=[x[i] * lognY[i] for i in range (len(x))]\n",
        "xcuadrado=[x[j]**2 for j in range (len(x))]\n",
        "sumaxcuadrado=sum(xcuadrado)\n",
        "productoescalar=sum(prod)\n",
        "sumprode=sum(prode)\n",
        "sumax=sum(x)\n",
        "sumay=sum(y)\n",
        "sumlny=sum(lognY)\n",
        "mediaX=sumax/len(x)\n",
        "mediaY=sumay/len(y)\n",
        "medialny=sumlny/len(lognY)\n",
        "a1=(len(x)*(productoescalar) - (sumax*sumay))/(len(x)*(sumaxcuadrado) - ((sumax)**2))\n",
        "a1E=(len(x)*(sumprode) - (sumax*sumlny))/(len(x)*(sumaxcuadrado) - ((sumax)**2))\n",
        "a0=mediaY - a1*mediaX\n",
        "a0E=medialny - a1E*mediaX\n",
        "alfa=math.exp(a0E)\n",
        "beta=a1E\n",
        "print (f\"Tu ecuación por regresiones lineales por minimos cuadrados para un mejor ajuste es: \\n y={alfa} * (e**{beta}x)\")\n"
      ]
    }
  ]
}