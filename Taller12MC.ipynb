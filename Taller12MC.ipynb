{
  "nbformat": 4,
  "nbformat_minor": 0,
  "metadata": {
    "colab": {
      "provenance": []
    },
    "kernelspec": {
      "name": "python3",
      "display_name": "Python 3"
    },
    "language_info": {
      "name": "python"
    }
  },
  "cells": [
    {
      "cell_type": "code",
      "execution_count": 4,
      "metadata": {
        "id": "B3BUL99H43sg",
        "colab": {
          "base_uri": "https://localhost:8080/"
        },
        "outputId": "904c8048-bf59-440b-dc4c-6346032d64ef"
      },
      "outputs": [
        {
          "output_type": "stream",
          "name": "stdout",
          "text": [
            "Valor estimado:  0.6344400108636644\n",
            "El error aproximado relativo en porcentaje es:  0.5025125628140704 %\n",
            "El numero de iteraciones es de:  1\n",
            "Valor estimado:  0.6344479812155597\n",
            "El error aproximado relativo en porcentaje es:  0.0012562656248037085 %\n",
            "El numero de iteraciones es de:  2\n",
            "Valor estimado:  0.6344479679316398\n",
            "El error aproximado relativo en porcentaje es:  2.093776085178497e-06 %\n",
            "El numero de iteraciones es de:  3\n",
            "Valor estimado:  0.6344479679482448\n",
            "El error aproximado relativo en porcentaje es:  2.617220106404622e-09 %\n",
            "El numero de iteraciones es de:  4\n",
            "Valor estimado:  0.6344479679482281\n",
            "El error aproximado relativo en porcentaje es:  2.6172201064046915e-12 %\n",
            "El numero de iteraciones es de:  5\n",
            "Valor estimado:  0.6344479679482281\n",
            "El error aproximado relativo en porcentaje es:  2.1810167553372427e-15 %\n",
            "El numero de iteraciones es de:  6\n",
            "Valor estimado:  0.6344479679482281\n",
            "El error aproximado relativo en porcentaje es:  1.5578691109551735e-18 %\n",
            "El numero de iteraciones es de:  7\n",
            "Valor estimado:  0.6344479679482281\n",
            "El error aproximado relativo en porcentaje es:  9.736681943469832e-22 %\n",
            "El numero de iteraciones es de:  8\n",
            "Valor estimado:  0.6344479679482281\n",
            "El error aproximado relativo en porcentaje es:  5.40926774637213e-25 %\n",
            "El numero de iteraciones es de:  9\n",
            "Valor estimado:  0.6344479679482281\n",
            "El error aproximado relativo en porcentaje es:  2.704633873186065e-28 %\n",
            "El numero de iteraciones es de:  10\n",
            "Valor estimado:  0.6344479679482281\n",
            "El error aproximado relativo en porcentaje es:  1.2293790332663932e-31 %\n",
            "El numero de iteraciones es de:  11\n",
            "Valor estimado:  0.6344479679482281\n",
            "El error aproximado relativo en porcentaje es:  5.122412638609972e-35 %\n",
            "El numero de iteraciones es de:  12\n",
            "Valor estimado:  0.6344479679482281\n",
            "El error aproximado relativo en porcentaje es:  1.9701587071576813e-38 %\n",
            "El numero de iteraciones es de:  13\n",
            "Valor estimado:  0.6344479679482281\n",
            "El error aproximado relativo en porcentaje es:  7.036281096991719e-42 %\n",
            "El numero de iteraciones es de:  14\n",
            "Valor estimado:  0.6344479679482281\n",
            "El error aproximado relativo en porcentaje es:  2.345427032330573e-45 %\n",
            "El numero de iteraciones es de:  15\n"
          ]
        }
      ],
      "source": [
        "\n",
        "from math import e\n",
        "import numpy\n",
        "x=0.45\n",
        "suma=(e**-0.45)\n",
        "ea=1\n",
        "es=((0.5*(10**-8))*100)\n",
        "n=0\n",
        "h=0.005\n",
        "for i in range (0,15):\n",
        "  n+=1\n",
        "  termino=((-1)**(n))*(((e**-0.45)/math.factorial(n))*h**n)\n",
        "  suma+=termino\n",
        "  ea=abs((termino/suma)*100)\n",
        "  print(\"Valor estimado: \",suma)\n",
        "  print(\"El error aproximado relativo en porcentaje es: \",ea, \"%\")\n",
        "  print(\"El numero de iteraciones es de: \",n)"
      ]
    },
    {
      "cell_type": "code",
      "source": [],
      "metadata": {
        "id": "t-4HvTDb5Gq9"
      },
      "execution_count": null,
      "outputs": []
    },
    {
      "cell_type": "code",
      "source": [],
      "metadata": {
        "id": "S4yp8wQp5Ioq"
      },
      "execution_count": null,
      "outputs": []
    }
  ]
}