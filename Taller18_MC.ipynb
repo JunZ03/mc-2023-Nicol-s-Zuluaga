{
  "nbformat": 4,
  "nbformat_minor": 0,
  "metadata": {
    "colab": {
      "provenance": []
    },
    "kernelspec": {
      "name": "python3",
      "display_name": "Python 3"
    },
    "language_info": {
      "name": "python"
    }
  },
  "cells": [
    {
      "cell_type": "code",
      "execution_count": 39,
      "metadata": {
        "colab": {
          "base_uri": "https://localhost:8080/"
        },
        "id": "mzirTAhDaogT",
        "outputId": "756f5dbc-cc6f-4615-ede2-9b9a95759c3b"
      },
      "outputs": [
        {
          "output_type": "stream",
          "name": "stdout",
          "text": [
            "Tu ecuación por regresiones lineales por minimos cuadrados para un mejor ajuste es: \n",
            " y=5.178571428571429 + (0.6428571428571429x)\n",
            "\n",
            "Tu ecuación por el modelo exponencial es: \n",
            " y=5.182552316882979e^0.09381825761946974x\n",
            "\n",
            "Tu ecuación por el modelo de potencias es: \n",
            " y=5.452315272764888x^0.2892136642655416\n",
            "\n",
            "Tu ecuación por el modelo de razon de crecimiento es: \n",
            " y=9.76758342952677*(x/0.6736932219226155+x)\n"
          ]
        }
      ],
      "source": [
        "import math\n",
        "x=[0.5,1.5,2.5,3.5,4.5,5.5,6.5,7.5]\n",
        "y=[4.2,6.5,7.5,8,8.5,8.8,9,9.5]\n",
        "\n",
        "#Modelo 1\n",
        "multixy=[x[i] * y[i] for i in range (len(x))]\n",
        "xelevado2=[x[j]**2 for j in range (len(x))]\n",
        "sumaxelevado2=sum(xelevado2)\n",
        "sumamultixy=sum(multixy)\n",
        "sumax=sum(x)\n",
        "sumay=sum(y)\n",
        "promx=sumax/(len(x))\n",
        "promy=sumay/(len(x))\n",
        "a1=(len(x)*(sumamultixy) - (sumax*sumay))/(len(x)*(sumaxelevado2) - ((sumax)**2))\n",
        "a0=promy - (a1*promx)\n",
        "print (f\"Tu ecuación por regresiones lineales por minimos cuadrados para un mejor ajuste es: \\n y={a0} + ({a1}x)\\n\")\n",
        "\n",
        "#Modelo 2\n",
        "lny=[math.log(y[k]) for k in range (len(y))]\n",
        "multixyln=[x[i] * lny[i] for i in range (len(x))]\n",
        "xelevado2=[x[j]**2 for j in range (len(x))]\n",
        "sumaxelevado2=sum(xelevado2)\n",
        "sumamultixyln=sum(multixyln)\n",
        "sumax=sum(x)\n",
        "sumalny=sum(lny)\n",
        "promx=sumax/(len(x))\n",
        "promlny=sumalny/(len(x))\n",
        "a1=(len(x)*(sumamultixyln) - (sumax*sumalny))/(len(x)*(sumaxelevado2) - ((sumax)**2))\n",
        "a0=promlny - (a1*promx)\n",
        "delta=math.e**a0\n",
        "beta=a1\n",
        "print (f\"Tu ecuación por el modelo exponencial es: \\n y={delta}e^{beta}x\\n\")\n",
        "\n",
        "#Modelo 3\n",
        "logx=[math. log(x[l], 10) for l in range (len(x))]\n",
        "logy=[math. log(y[l], 10) for l in range (len(x))]\n",
        "x2log=[logx[j]**2 for j in range (len(x))]\n",
        "sumax2log=sum(x2log)\n",
        "multixylog=[logx[i] * logy[i] for i in range (len(x))]\n",
        "sumalogx=sum(logx)\n",
        "sumalogy=sum(logy)\n",
        "sumamultixylog=sum(multixylog)\n",
        "promlogx=sumalogx/(len(x))\n",
        "promlogy=sumalogy/(len(x))\n",
        "a1=(len(x)*(sumamultixylog) - (sumalogx*sumalogy))/(len(x)*(sumax2log) - ((sumalogx)**2))\n",
        "a0= promlogy - (a1*promlogx)\n",
        "delta1=10**a0\n",
        "beta1=a1\n",
        "print (f\"Tu ecuación por el modelo de potencias es: \\n y={delta1}x^{beta1}\\n\")\n",
        "\n",
        "#Modelo 4\n",
        "x1=[x[i]**(-1) for i in range (len(x))]\n",
        "y1=[y[l]**(-1) for l in range (len(x))]\n",
        "x2_x1=[x1[j]**2 for j in range (len(x))]\n",
        "sumax2_x1=sum(x2_x1)\n",
        "multixy1=[x1[i] * y1[i] for i in range (len(x))]\n",
        "sumax1=sum(x1)\n",
        "sumay1=sum(y1)\n",
        "sumamultixy1=sum(multixy1)\n",
        "promx1=sumax1/(len(x))\n",
        "promy1=sumay1/(len(x))\n",
        "a1=(len(x)*(sumamultixy1) - (sumax1*sumay1))/(len(x)*(sumax2_x1) - ((sumax1)**2))\n",
        "a0= promy1 - (a1*promx1)\n",
        "delta2=1/a0\n",
        "beta2=a1/a0\n",
        "print (f\"Tu ecuación por el modelo de razon de crecimiento es: \\n y={delta2}*(x/{beta2}+x)\")\n",
        "\n"
      ]
    }
  ]
}