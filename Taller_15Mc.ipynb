{
  "nbformat": 4,
  "nbformat_minor": 0,
  "metadata": {
    "colab": {
      "provenance": []
    },
    "kernelspec": {
      "name": "python3",
      "display_name": "Python 3"
    },
    "language_info": {
      "name": "python"
    }
  },
  "cells": [
    {
      "cell_type": "code",
      "execution_count": 1,
      "metadata": {
        "colab": {
          "base_uri": "https://localhost:8080/"
        },
        "id": "M-KxDsX4H6rb",
        "outputId": "eb4ceda0-b961-4db1-ee18-d86a12a02dcc"
      },
      "outputs": [
        {
          "output_type": "stream",
          "name": "stdout",
          "text": [
            "La inversa de A es:\n",
            "[1.0000000000000002, -2.0000000000000004, 4.000000000000001]\n",
            "[-1.5000000000000004, 4.000000000000001, -7.500000000000002]\n",
            "[0.5000000000000001, -1.0000000000000002, 1.5000000000000004]\n"
          ]
        }
      ],
      "source": [
        "A = [[3, 2, 2], [3, 1, -3], [1, 0, -2]]\n",
        "\n",
        "\n",
        "I = [[1, 0, 0], [0, 1, 0], [0, 0, 1]]\n",
        "\n",
        "\n",
        "M = []\n",
        "for i in range(len(A)):\n",
        "    row = A[i] + I[i]\n",
        "    M.append(row)\n",
        "\n",
        "\n",
        "for i in range(len(M)):\n",
        "    \n",
        "    pivot = M[i][i]\n",
        "    for j in range(len(M[i])):\n",
        "        M[i][j] /= pivot\n",
        "    \n",
        "    \n",
        "    for j in range(len(M)):\n",
        "        if i != j:\n",
        "            factor = M[j][i]\n",
        "            for k in range(len(M[i])):\n",
        "                M[j][k] -= factor * M[i][k]\n",
        "\n",
        "\n",
        "A_inv = []\n",
        "for i in range(len(A)):\n",
        "    row = []\n",
        "    for j in range(len(A[i])):\n",
        "        row.append(M[i][j+len(A[i])])\n",
        "    A_inv.append(row)\n",
        "\n",
        "\n",
        "print(\"La inversa de A es:\")\n",
        "for row in A_inv:\n",
        "    print(row)"
      ]
    },
    {
      "cell_type": "code",
      "source": [
        "\n",
        "B = [[1, 2, 0, 4], [2, 0, -1, -2], [1, 1, -1, 0], [0, 4, 1, 0]]\n",
        "\n",
        "\n",
        "I = [[1, 0, 0, 0], [0, 1, 0, 0], [0, 0, 1, 0], [0, 0, 0, 1]]\n",
        "\n",
        "\n",
        "M = []\n",
        "for i in range(len(B)):\n",
        "    row = B[i] + I[i]\n",
        "    M.append(row)\n",
        "\n",
        "\n",
        "for i in range(len(M)):\n",
        "    \n",
        "    pivot = M[i][i]\n",
        "    for j in range(len(M[i])):\n",
        "        M[i][j] /= pivot\n",
        "    \n",
        "    \n",
        "    for j in range(len(M)):\n",
        "        if i != j:\n",
        "            factor = M[j][i]\n",
        "            for k in range(len(M[i])):\n",
        "                M[j][k] -= factor * M[i][k]\n",
        "\n",
        "\n",
        "B_inv = []\n",
        "for i in range(len(B)):\n",
        "    row = []\n",
        "    for j in range(len(B[i])):\n",
        "        row.append(M[i][j+len(B[i])])\n",
        "    B_inv.append(row)\n",
        "\n",
        "\n",
        "print(\"La inversa de B es:\")\n",
        "for row in B_inv:\n",
        "    print(row)"
      ],
      "metadata": {
        "colab": {
          "base_uri": "https://localhost:8080/"
        },
        "id": "0kkehsB6IUd8",
        "outputId": "b9b9177a-524a-441f-e1d9-86e25fff08d5"
      },
      "execution_count": 2,
      "outputs": [
        {
          "output_type": "stream",
          "name": "stdout",
          "text": [
            "La inversa de B es:\n",
            "[0.3333333333333333, 0.6666666666666666, -0.6666666666666666, 0.0]\n",
            "[-0.06666666666666665, -0.1333333333333333, 0.3333333333333333, 0.2]\n",
            "[0.2666666666666666, 0.5333333333333333, -1.3333333333333333, 0.2]\n",
            "[0.2, -0.1, -0.0, -0.1]\n"
          ]
        }
      ]
    }
  ]
}