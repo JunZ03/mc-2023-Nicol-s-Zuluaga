{
  "nbformat": 4,
  "nbformat_minor": 0,
  "metadata": {
    "colab": {
      "provenance": []
    },
    "kernelspec": {
      "name": "python3",
      "display_name": "Python 3"
    },
    "language_info": {
      "name": "python"
    }
  },
  "cells": [
    {
      "cell_type": "markdown",
      "source": [
        "# PUNTO A\n",
        "\n"
      ],
      "metadata": {
        "id": "a4UfVql-AOGe"
      }
    },
    {
      "cell_type": "code",
      "execution_count": 1,
      "metadata": {
        "colab": {
          "base_uri": "https://localhost:8080/"
        },
        "id": "KuLGJBfB_Zwi",
        "outputId": "a3e08f93-a837-4853-c8a6-b744aecc221c"
      },
      "outputs": [
        {
          "output_type": "stream",
          "name": "stdout",
          "text": [
            "Ingrese la longitud de los vectores: 5\n",
            "Ingrese el valor 1 del primer vector: 3\n",
            "Ingrese el valor 1 del segundo vector: 6\n",
            "Ingrese el valor 2 del primer vector: 4\n",
            "Ingrese el valor 2 del segundo vector: -7\n",
            "Ingrese el valor 3 del primer vector: -5\n",
            "Ingrese el valor 3 del segundo vector: 3\n",
            "Ingrese el valor 4 del primer vector: 6\n",
            "Ingrese el valor 4 del segundo vector: -9\n",
            "Ingrese el valor 5 del primer vector: 21\n",
            "Ingrese el valor 5 del segundo vector: -9\n",
            "El producto escalar de los vectores [3.0, 4.0, -5.0, 6.0, 21.0] y [6.0, -7.0, 3.0, -9.0, -9.0] es -268.0.\n"
          ]
        }
      ],
      "source": [
        "n = int(input(\"Ingrese la longitud de los vectores: \"))\n",
        "\n",
        "\n",
        "vector1 = []\n",
        "vector2 = []\n",
        "\n",
        "for i in range(n):\n",
        "    valor1 = float(input(f\"Ingrese el valor {i+1} del primer vector: \"))\n",
        "    vector1.append(valor1)\n",
        "    valor2 = float(input(f\"Ingrese el valor {i+1} del segundo vector: \"))\n",
        "    vector2.append(valor2)\n",
        "\n",
        "\n",
        "producto_escalar = 0\n",
        "for i in range(n):\n",
        "    producto_escalar += vector1[i] * vector2[i]\n",
        "\n",
        "# Imprimir el resultado\n",
        "print(f\"El producto escalar de los vectores {vector1} y {vector2} es {producto_escalar}.\")"
      ]
    },
    {
      "cell_type": "markdown",
      "source": [
        "#PUNTO B"
      ],
      "metadata": {
        "id": "DZvGP9cdAUg-"
      }
    },
    {
      "cell_type": "code",
      "source": [
        "import numpy as np\n",
        "\n",
        "\n",
        "m = int(input(\"Ingrese el número de filas de la matriz A: \"))\n",
        "n = int(input(\"Ingrese el número de columnas de la matriz A: \"))\n",
        "mb = int(input(\"Ingrese el número de filas de la matriz B: \"))\n",
        "nb = int(input(\"Ingrese el número de columnas de la matriz B: \"))\n",
        "\n",
        "if n != mb:\n",
        "    print(\"No se puede realizar la operación B x A.\")\n",
        "    exit()\n",
        "\n",
        "print(\"Ingrese los elementos de la matriz A: \")\n",
        "A = np.zeros((m,n)) \n",
        "for i in range(m):\n",
        "    for j in range(n):\n",
        "        A[i,j] = float(input(f\"A[{i+1},{j+1}]: \"))\n",
        "\n",
        "\n",
        "print(\"Ingrese los elementos de la matriz B: \")\n",
        "B = np.zeros((mb,nb)) \n",
        "for i in range(mb):\n",
        "    for j in range(nb):\n",
        "        B[i,j] = float(input(f\"B[{i+1},{j+1}]: \"))\n",
        "\n",
        "\n",
        "print(\"3A = \")\n",
        "print(3*A)\n",
        "\n",
        "print(\"4B = \")\n",
        "print(4*B)\n",
        "\n",
        "print(\"A + B = \")\n",
        "print(A + B)\n",
        "\n",
        "print(\"B × A = \")\n",
        "print(np.dot(B,A))"
      ],
      "metadata": {
        "colab": {
          "base_uri": "https://localhost:8080/"
        },
        "id": "KbQl2-leLmaC",
        "outputId": "5dd57626-92c6-4ab8-9f5d-f8a33cf94ea9"
      },
      "execution_count": 2,
      "outputs": [
        {
          "output_type": "stream",
          "name": "stdout",
          "text": [
            "Ingrese el número de filas de la matriz A: 1\n",
            "Ingrese el número de columnas de la matriz A: 2\n",
            "Ingrese el número de filas de la matriz B: 2\n",
            "Ingrese el número de columnas de la matriz B: 1\n",
            "Ingrese los elementos de la matriz A: \n",
            "A[1,1]: 4\n",
            "A[1,2]: 7\n",
            "Ingrese los elementos de la matriz B: \n",
            "B[1,1]: 2\n",
            "B[2,1]: 5\n",
            "3A = \n",
            "[[12. 21.]]\n",
            "4B = \n",
            "[[ 8.]\n",
            " [20.]]\n",
            "A + B = \n",
            "[[ 6.  9.]\n",
            " [ 9. 12.]]\n",
            "B × A = \n",
            "[[ 8. 14.]\n",
            " [20. 35.]]\n"
          ]
        }
      ]
    },
    {
      "cell_type": "code",
      "source": [
        "arreglo2d = np.arange(25).reshape(5,5)\n",
        "print(arreglo2d)\n"
      ],
      "metadata": {
        "colab": {
          "base_uri": "https://localhost:8080/"
        },
        "id": "GnEBni76Iy9z",
        "outputId": "693e3ffb-41dc-415b-8c1b-a433e59f869b"
      },
      "execution_count": 5,
      "outputs": [
        {
          "output_type": "stream",
          "name": "stdout",
          "text": [
            "[[ 0  1  2  3  4]\n",
            " [ 5  6  7  8  9]\n",
            " [10 11 12 13 14]\n",
            " [15 16 17 18 19]\n",
            " [20 21 22 23 24]]\n"
          ]
        }
      ]
    }
  ]
}